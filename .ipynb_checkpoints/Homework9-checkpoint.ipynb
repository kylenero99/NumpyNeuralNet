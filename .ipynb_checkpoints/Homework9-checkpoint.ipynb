{
 "cells": [
  {
   "cell_type": "code",
   "execution_count": 1,
   "id": "5993868f",
   "metadata": {},
   "outputs": [],
   "source": [
    "import numpy as np\n",
    "import pandas as pd\n",
    "\n",
    "import matplotlib.pyplot as plt\n",
    "\n",
    "import tensorflow as tf # ENV=PY310 for it to work\n",
    "from tensorflow import keras\n",
    "from tensorflow.keras import layers\n",
    "from tensorflow.keras import optimizers"
   ]
  },
  {
   "cell_type": "markdown",
   "id": "aac05e92",
   "metadata": {},
   "source": [
    "## Problem 1"
   ]
  },
  {
   "cell_type": "code",
   "execution_count": 2,
   "id": "91931f0e",
   "metadata": {},
   "outputs": [],
   "source": [
    "data = np.load(\"menu-match.npz\")"
   ]
  },
  {
   "cell_type": "code",
   "execution_count": 3,
   "id": "530f292d",
   "metadata": {},
   "outputs": [],
   "source": [
    "X_train = data['X_train']\n",
    "X_test = data['X_test']\n",
    "y_train = data['y_train']\n",
    "y_test = data['y_test']\n",
    "y_train = np.array(pd.Series(y_train).replace({\"a\": 0, \"i\": 1, \"s\": 1}))\n",
    "y_test = np.array(pd.Series(y_test).replace({\"a\": 0, \"i\": 1, \"s\": 1}))\n",
    "\n",
    "trainset = [X_train, y_train]\n",
    "testset = [X_test, y_test]"
   ]
  },
  {
   "cell_type": "code",
   "execution_count": 4,
   "id": "9cc0b4ec",
   "metadata": {},
   "outputs": [
    {
     "name": "stdout",
     "output_type": "stream",
     "text": [
      "1\n"
     ]
    },
    {
     "data": {
      "text/plain": [
       "<matplotlib.image.AxesImage at 0x7f83b6d7bd00>"
      ]
     },
     "execution_count": 4,
     "metadata": {},
     "output_type": "execute_result"
    },
    {
     "data": {
      "image/png": "[encoded data removed]",
      "text/plain": [
       "<Figure size 432x288 with 1 Axes>"
      ]
     },
     "metadata": {
      "needs_background": "light"
     },
     "output_type": "display_data"
    }
   ],
   "source": [
    "print(y_train[0]) # italian\n",
    "plt.imshow(X_train[0]) # pizza"
   ]
  },
  {
   "cell_type": "code",
   "execution_count": 5,
   "id": "d3076397",
   "metadata": {},
   "outputs": [
    {
     "data": {
      "text/plain": [
       "(48, 48, 3)"
      ]
     },
     "execution_count": 5,
     "metadata": {},
     "output_type": "execute_result"
    }
   ],
   "source": [
    "X_train[0].shape"
   ]
  },
  {
   "cell_type": "code",
   "execution_count": 6,
   "id": "b5f20f2d",
   "metadata": {},
   "outputs": [
    {
     "name": "stderr",
     "output_type": "stream",
     "text": [
      "2023-06-13 16:55:52.670020: I tensorflow/core/platform/cpu_feature_guard.cc:193] This TensorFlow binary is optimized with oneAPI Deep Neural Network Library (oneDNN) to use the following CPU instructions in performance-critical operations:  SSE4.1 SSE4.2\n",
      "To enable them in other operations, rebuild TensorFlow with the appropriate compiler flags.\n"
     ]
    }
   ],
   "source": [
    "model = keras.models.Sequential()\n",
    "model.add(keras.layers.Conv2D(48, (7, 7), activation='relu', input_shape=(48, 48, 3)))\n",
    "model.add(keras.layers.MaxPooling2D((2, 2)))\n",
    "model.add(keras.layers.Conv2D(96, (5, 5), activation='relu'))\n",
    "model.add(keras.layers.MaxPooling2D((2, 2)))\n",
    "model.add(keras.layers.Conv2D(96, (3, 3), activation='relu'))\n",
    "model.add(keras.layers.Flatten())\n",
    "model.add(keras.layers.Dropout(0.5))\n",
    "model.add(keras.layers.Dense(96, activation='relu'))\n",
    "model.add(keras.layers.Dense(1, activation='sigmoid'))"
   ]
  },
  {
   "cell_type": "code",
   "execution_count": 7,
   "id": "f96d52ae",
   "metadata": {
    "scrolled": false
   },
   "outputs": [
    {
     "name": "stdout",
     "output_type": "stream",
     "text": [
      "Epoch 1/30\n"
     ]
    },
    {
     "name": "stderr",
     "output_type": "stream",
     "text": [
      "/Users/kylenero/opt/anaconda3/envs/py310/lib/python3.10/site-packages/keras/optimizers/optimizer_v2/gradient_descent.py:108: UserWarning: The `lr` argument is deprecated, use `learning_rate` instead.\n",
      "  super(SGD, self).__init__(name, **kwargs)\n"
     ]
    },
    {
     "name": "stdout",
     "output_type": "stream",
     "text": [
      "15/15 [==============================] - 2s 89ms/step - loss: 3.9946 - accuracy: 0.5521 - val_loss: 0.7771 - val_accuracy: 0.6145\n",
      "Epoch 2/30\n",
      "15/15 [==============================] - 1s 80ms/step - loss: 1.0041 - accuracy: 0.5938 - val_loss: 0.6502 - val_accuracy: 0.6867\n",
      "Epoch 3/30\n",
      "15/15 [==============================] - 1s 80ms/step - loss: 0.7413 - accuracy: 0.6000 - val_loss: 0.5625 - val_accuracy: 0.6807\n",
      "Epoch 4/30\n",
      "15/15 [==============================] - 1s 82ms/step - loss: 0.5749 - accuracy: 0.6938 - val_loss: 0.5493 - val_accuracy: 0.7108\n",
      "Epoch 5/30\n",
      "15/15 [==============================] - 1s 81ms/step - loss: 0.5980 - accuracy: 0.6687 - val_loss: 0.5280 - val_accuracy: 0.7410\n",
      "Epoch 6/30\n",
      "15/15 [==============================] - 1s 80ms/step - loss: 0.5234 - accuracy: 0.7000 - val_loss: 0.5348 - val_accuracy: 0.7048\n",
      "Epoch 7/30\n",
      "15/15 [==============================] - 1s 82ms/step - loss: 0.5111 - accuracy: 0.7271 - val_loss: 0.5304 - val_accuracy: 0.7349\n",
      "Epoch 8/30\n",
      "15/15 [==============================] - 1s 80ms/step - loss: 0.5056 - accuracy: 0.7354 - val_loss: 0.5018 - val_accuracy: 0.7771\n",
      "Epoch 9/30\n",
      "15/15 [==============================] - 1s 79ms/step - loss: 0.4860 - accuracy: 0.7375 - val_loss: 0.4768 - val_accuracy: 0.7711\n",
      "Epoch 10/30\n",
      "15/15 [==============================] - 1s 79ms/step - loss: 0.4635 - accuracy: 0.7542 - val_loss: 0.4924 - val_accuracy: 0.7470\n",
      "Epoch 11/30\n",
      "15/15 [==============================] - 1s 81ms/step - loss: 0.5086 - accuracy: 0.7396 - val_loss: 0.4667 - val_accuracy: 0.7831\n",
      "Epoch 12/30\n",
      "15/15 [==============================] - 1s 80ms/step - loss: 0.4656 - accuracy: 0.7750 - val_loss: 0.4491 - val_accuracy: 0.8072\n",
      "Epoch 13/30\n",
      "15/15 [==============================] - 1s 81ms/step - loss: 0.4336 - accuracy: 0.7917 - val_loss: 0.4507 - val_accuracy: 0.7952\n",
      "Epoch 14/30\n",
      "15/15 [==============================] - 1s 82ms/step - loss: 0.4115 - accuracy: 0.8000 - val_loss: 0.4476 - val_accuracy: 0.7831\n",
      "Epoch 15/30\n",
      "15/15 [==============================] - 1s 82ms/step - loss: 0.3686 - accuracy: 0.8396 - val_loss: 0.4262 - val_accuracy: 0.8133\n",
      "Epoch 16/30\n",
      "15/15 [==============================] - 1s 82ms/step - loss: 0.3733 - accuracy: 0.8167 - val_loss: 0.4193 - val_accuracy: 0.8072\n",
      "Epoch 17/30\n",
      "15/15 [==============================] - 1s 81ms/step - loss: 0.3702 - accuracy: 0.8146 - val_loss: 0.4618 - val_accuracy: 0.7771\n",
      "Epoch 18/30\n",
      "15/15 [==============================] - 1s 82ms/step - loss: 0.3653 - accuracy: 0.8271 - val_loss: 0.4013 - val_accuracy: 0.8253\n",
      "Epoch 19/30\n",
      "15/15 [==============================] - 1s 82ms/step - loss: 0.3569 - accuracy: 0.8375 - val_loss: 0.5141 - val_accuracy: 0.7651\n",
      "Epoch 20/30\n",
      "15/15 [==============================] - 1s 84ms/step - loss: 0.3491 - accuracy: 0.8271 - val_loss: 0.4192 - val_accuracy: 0.8253\n",
      "Epoch 21/30\n",
      "15/15 [==============================] - 1s 81ms/step - loss: 0.3249 - accuracy: 0.8562 - val_loss: 0.4271 - val_accuracy: 0.8012\n",
      "Epoch 22/30\n",
      "15/15 [==============================] - 1s 81ms/step - loss: 0.3184 - accuracy: 0.8521 - val_loss: 0.4125 - val_accuracy: 0.8313\n",
      "Epoch 23/30\n",
      "15/15 [==============================] - 1s 81ms/step - loss: 0.3261 - accuracy: 0.8521 - val_loss: 0.3931 - val_accuracy: 0.8133\n",
      "Epoch 24/30\n",
      "15/15 [==============================] - 1s 81ms/step - loss: 0.3003 - accuracy: 0.8583 - val_loss: 0.3893 - val_accuracy: 0.8193\n",
      "Epoch 25/30\n",
      "15/15 [==============================] - 1s 80ms/step - loss: 0.3012 - accuracy: 0.8562 - val_loss: 0.4134 - val_accuracy: 0.8253\n",
      "Epoch 26/30\n",
      "15/15 [==============================] - 1s 80ms/step - loss: 0.2533 - accuracy: 0.8938 - val_loss: 0.4035 - val_accuracy: 0.8012\n",
      "Epoch 27/30\n",
      "15/15 [==============================] - 1s 81ms/step - loss: 0.2432 - accuracy: 0.9083 - val_loss: 0.3888 - val_accuracy: 0.8313\n",
      "Epoch 28/30\n",
      "15/15 [==============================] - 1s 82ms/step - loss: 0.2657 - accuracy: 0.8833 - val_loss: 0.3809 - val_accuracy: 0.8133\n",
      "Epoch 29/30\n",
      "15/15 [==============================] - 1s 81ms/step - loss: 0.2222 - accuracy: 0.9167 - val_loss: 0.3898 - val_accuracy: 0.8193\n",
      "Epoch 30/30\n",
      "15/15 [==============================] - 1s 80ms/step - loss: 0.2100 - accuracy: 0.9083 - val_loss: 0.3849 - val_accuracy: 0.8373\n"
     ]
    },
    {
     "data": {
      "text/plain": [
       "<keras.callbacks.History at 0x7f83b728a740>"
      ]
     },
     "execution_count": 7,
     "metadata": {},
     "output_type": "execute_result"
    }
   ],
   "source": [
    "sgd = optimizers.SGD(lr=0.0001, decay=1e-6, momentum=0.9, nesterov=True)\n",
    "\n",
    "model.compile(\n",
    "    optimizer=sgd,#\"adam\",keras.optimizers.RMSprop(), #sgd and adam work well\n",
    "    loss=keras.losses.binary_crossentropy,\n",
    "    metrics=['accuracy']\n",
    ")\n",
    "model.fit(\n",
    "    X_train,\n",
    "    y_train,\n",
    "    epochs=30, # use at least 30\n",
    "    validation_data=(X_test, y_test)\n",
    ")"
   ]
  },
  {
   "cell_type": "code",
   "execution_count": 18,
   "id": "2f5668d1",
   "metadata": {},
   "outputs": [
    {
     "name": "stdout",
     "output_type": "stream",
     "text": [
      "Final test accuracy: 83.73%\n"
     ]
    }
   ],
   "source": [
    "print(\"Final test accuracy: 83.73%\")"
   ]
  },
  {
   "cell_type": "markdown",
   "id": "9c946017",
   "metadata": {},
   "source": [
    "## Problem 2"
   ]
  },
  {
   "cell_type": "code",
   "execution_count": 19,
   "id": "1167f5ef",
   "metadata": {},
   "outputs": [
    {
     "data": {
      "text/plain": [
       "(50, 2)"
      ]
     },
     "execution_count": 19,
     "metadata": {},
     "output_type": "execute_result"
    }
   ],
   "source": [
    "data = pd.read_csv(\"noisyabs.csv\", header=None)\n",
    "data.columns = [\"x\",\"y\"]\n",
    "data.shape"
   ]
  },
  {
   "cell_type": "markdown",
   "id": "a8fabb20",
   "metadata": {},
   "source": [
    "#### part a"
   ]
  },
  {
   "cell_type": "code",
   "execution_count": 10,
   "id": "b081dfd1",
   "metadata": {},
   "outputs": [],
   "source": [
    "def weights_and_biases(parameter_vector): \n",
    "    layer_sizes = (1, 2, 1)\n",
    "    \n",
    "    W = {}\n",
    "    b = {}\n",
    "\n",
    "    layer_start = 0\n",
    "    for ell in range(1, len(layer_sizes)):\n",
    "        this_layer_size = layer_sizes[ell]\n",
    "        prev_layer_size = layer_sizes[ell-1]\n",
    "        \n",
    "        n_weights = this_layer_size * prev_layer_size\n",
    "        n_biases = this_layer_size\n",
    "        \n",
    "        W[ell] = parameter_vector[layer_start:layer_start + n_weights].reshape(\n",
    "            (prev_layer_size, this_layer_size)\n",
    "        )\n",
    "        \n",
    "        b[ell] = np.expand_dims(\n",
    "            parameter_vector[layer_start + n_weights:layer_start + n_weights + n_biases],\n",
    "            axis=1\n",
    "        )\n",
    "        \n",
    "        layer_start += n_weights + n_biases\n",
    "    \n",
    "    return W, b"
   ]
  },
  {
   "cell_type": "code",
   "execution_count": 11,
   "id": "912e1e37",
   "metadata": {},
   "outputs": [
    {
     "data": {
      "text/plain": [
       "39"
      ]
     },
     "execution_count": 11,
     "metadata": {},
     "output_type": "execute_result"
    }
   ],
   "source": [
    "def H(x,w):\n",
    "    # x is a number\n",
    "    # w is a parameter vector\n",
    "    w, b = weights_and_biases(w)\n",
    "    w1 = np.array(w[1])\n",
    "    w2 = np.array(w[2])\n",
    "    b1 = np.array(b[1])\n",
    "    b2 = np.array(b[2])\n",
    "    x = np.array([x])\n",
    "\n",
    "    z1 = (x @ w1) + b1.T\n",
    "    a1 = np.array([max(0,z) for z in z1[0]])\n",
    "    z2 = (a1 @ w2) + b2\n",
    "    a2 = z2 # this is correct, no activation\n",
    "    return a2[0][0]\n",
    "\n",
    "H(5, np.array([1,2,-1,-2,3,4,-5]))"
   ]
  },
  {
   "cell_type": "markdown",
   "id": "719d71cf",
   "metadata": {},
   "source": [
    "#### part b"
   ]
  },
  {
   "cell_type": "code",
   "execution_count": 12,
   "id": "82d74bf8",
   "metadata": {},
   "outputs": [
    {
     "data": {
      "text/plain": [
       "array([15, 20,  3,  4,  4,  8,  1])"
      ]
     },
     "execution_count": 12,
     "metadata": {},
     "output_type": "execute_result"
    }
   ],
   "source": [
    "def del_H(x, w):\n",
    "    # x is a number\n",
    "    # w is a parameter vector\n",
    "    w, b = weights_and_biases(w)\n",
    "    w1 = np.array(w[1])\n",
    "    w2 = np.array(w[2])\n",
    "    b1 = np.array(b[1])\n",
    "    b2 = np.array(b[2])\n",
    "    x = np.array([x])\n",
    "    \n",
    "    w111 = w1[0][0]\n",
    "    w112 = w1[0][1]\n",
    "    w211 = w2[0][0]\n",
    "    w221 = w2[1][0]\n",
    "    \n",
    "    b11 = b1[0][0]\n",
    "    b12 = b1[1][0]\n",
    "    b21 = b2[0][0]\n",
    "    \n",
    "    z1 = (x @ w1) + b1.T\n",
    "    a1 = np.array([max(0,z) for z in z1[0]])\n",
    "    z2 = (a1 @ w2) + b2\n",
    "    a2 = z2 # this is correct, no activation\n",
    "    \n",
    "    a21 = a2[0][0]\n",
    "    z21 = z2[0][0]\n",
    "    \n",
    "    a11 = a1[0]\n",
    "    a12 = a1[1]\n",
    "    z11 = z1[0][0]\n",
    "    z12 = z1[0][1]\n",
    "    \n",
    "    b11 = b1[0]\n",
    "    b12 = b1[1]\n",
    "    \n",
    "    b21 = b2[0]\n",
    "    \n",
    "    da21 = 1\n",
    "    dz21 = da21\n",
    "    db21 = dz21\n",
    "    \n",
    "    dw211 = a11 * dz21\n",
    "    dw221 = a12 * dz21\n",
    "    \n",
    "    da11 = dz21 * w211\n",
    "    if z11 < 0:\n",
    "        dz11 = 0\n",
    "    else:\n",
    "        dz11 = da11\n",
    "    db11 = dz11\n",
    "    da12 = dz21 * w221\n",
    "    if z12 < 0:\n",
    "        dz12 = 0\n",
    "    else:\n",
    "        dz12 = da12\n",
    "    db12 = dz12\n",
    "    \n",
    "    dw111 = x[0] * dz11\n",
    "    dw112 = x[0] * dz12\n",
    "    \n",
    "    return np.array([dw111, dw112, db11, db12, dw211, dw221, db21])\n",
    "    \n",
    "del_H(5, np.array([1,2,-1,-2,3,4,-5]))"
   ]
  },
  {
   "cell_type": "markdown",
   "id": "b45f6354",
   "metadata": {},
   "source": [
    "#### part c"
   ]
  },
  {
   "cell_type": "code",
   "execution_count": 13,
   "id": "d0d550a0",
   "metadata": {},
   "outputs": [
    {
     "data": {
      "text/plain": [
       "array([603.6473778, 804.8631704,  81.70272  , 108.93696  , 173.9815526,\n",
       "       347.9631052,  14.56888  ])"
      ]
     },
     "execution_count": 13,
     "metadata": {},
     "output_type": "execute_result"
    }
   ],
   "source": [
    "def del_R(w):\n",
    "    # w is the current parameter vector\n",
    "    # returns the gradient at w\n",
    "    # in words: for each xi, find error given w and scalar multiply to backprop results\n",
    "    result = np.array([0,0,0,0,0,0,0], dtype=float)\n",
    "    for i in range(len(data)):\n",
    "        xi = data.loc[i,\"x\"]\n",
    "        yi = data.loc[i,\"y\"]\n",
    "        backprop = del_H(xi,w)\n",
    "        error = H(xi,w) - yi\n",
    "        result += np.array(backprop*error) # array*scalar\n",
    "    return (2/50)*result\n",
    "        \n",
    "del_R(np.array([1,2,-1,-2,3,4,-5])) # sum should be 2135"
   ]
  },
  {
   "cell_type": "markdown",
   "id": "2033f164",
   "metadata": {},
   "source": [
    "#### part d"
   ]
  },
  {
   "cell_type": "code",
   "execution_count": 14,
   "id": "9ce3ffce",
   "metadata": {},
   "outputs": [],
   "source": [
    "def gradient_descent(gradient, x, learning_rate=0.01, threshold=0.001):\n",
    "    # gradient is a function, x is the parameter vector\n",
    "    while True:\n",
    "        x_new = x - learning_rate * gradient(x)\n",
    "        if np.linalg.norm(x - x_new) < threshold:\n",
    "            break\n",
    "        x = x_new\n",
    "    return x"
   ]
  },
  {
   "cell_type": "code",
   "execution_count": 15,
   "id": "68ca2ce0",
   "metadata": {},
   "outputs": [],
   "source": [
    "# train neural network using gradient descent\n",
    "np.random.seed(47)\n",
    "w_init = np.random.uniform(0,1,7)\n",
    "w_optimal = gradient_descent(del_R, w_init)"
   ]
  },
  {
   "cell_type": "code",
   "execution_count": 16,
   "id": "b2da014e",
   "metadata": {},
   "outputs": [
    {
     "data": {
      "image/png": "[encoded data removed]",
      "text/plain": [
       "<Figure size 432x288 with 1 Axes>"
      ]
     },
     "metadata": {
      "needs_background": "light"
     },
     "output_type": "display_data"
    }
   ],
   "source": [
    "# plot output of TRAINED neural network on [-10, 10]\n",
    "x_range = np.arange(-10,10.01,0.01)\n",
    "y_range = [H(x,w_optimal) for x in x_range]\n",
    "plt.scatter(data['x'], data['y'])\n",
    "plt.plot(x_range, y_range, color=\"red\")\n",
    "plt.show()"
   ]
  },
  {
   "cell_type": "code",
   "execution_count": null,
   "id": "1e3c7dce",
   "metadata": {},
   "outputs": [],
   "source": []
  }
 ],
 "metadata": {
  "kernelspec": {
   "display_name": "Python [conda env:py310]",
   "language": "python",
   "name": "conda-env-py310-py"
  },
  "language_info": {
   "codemirror_mode": {
    "name": "ipython",
    "version": 3
   },
   "file_extension": ".py",
   "mimetype": "text/x-python",
   "name": "python",
   "nbconvert_exporter": "python",
   "pygments_lexer": "ipython3",
   "version": "3.10.4"
  }
 },
 "nbformat": 4,
 "nbformat_minor": 5
}
